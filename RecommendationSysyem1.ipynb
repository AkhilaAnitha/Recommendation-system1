{
 "cells": [
  {
   "cell_type": "code",
   "execution_count": 1,
   "metadata": {
    "colab": {
     "base_uri": "https://localhost:8080/"
    },
    "id": "pURb-GHHd7WU",
    "outputId": "472318a8-9b9e-4946-ce68-3aea56abd7c0"
   },
   "outputs": [],
   "source": [
    "!pip install -qq convokit"
   ]
  },
  {
   "cell_type": "code",
   "execution_count": 2,
   "metadata": {},
   "outputs": [],
   "source": [
    "!pip install -qq scikit-surprise\n",
    "\n"
   ]
  },
  {
   "cell_type": "code",
   "execution_count": 3,
   "metadata": {
    "id": "oI24AYBddOyz"
   },
   "outputs": [],
   "source": [
    "import pandas as pd\n",
    "import numpy as np\n",
    "from surprise import Dataset, Reader, SVD\n",
    "from surprise.model_selection import train_test_split\n",
    "from surprise import accuracy\n",
    "import convokit"
   ]
  },
  {
   "cell_type": "code",
   "execution_count": 4,
   "metadata": {
    "colab": {
     "base_uri": "https://localhost:8080/"
    },
    "id": "dsFqk94XdqMp",
    "outputId": "af589c9f-2472-42eb-f110-7917fea977d8"
   },
   "outputs": [
    {
     "name": "stdout",
     "output_type": "stream",
     "text": [
      "Downloading movie-corpus to C:\\Users\\akhil\\.convokit\\downloads\\movie-corpus\n",
      "Downloading movie-corpus from http://zissou.infosci.cornell.edu/convokit/datasets/movie-corpus/movie-corpus.zip (40.9MB)... Done\n",
      "No configuration file found at C:\\Users\\akhil/.convokit/config.yml; writing with contents: \n",
      "# Default Backend Parameters\n",
      "db_host: localhost:27017\n",
      "data_directory: ~/.convokit/saved-corpora\n",
      "default_backend: mem\n"
     ]
    }
   ],
   "source": [
    "# Load the Cornell Movie Dialogs Corpus\n",
    "corpus = convokit.Corpus(filename=convokit.download(\"movie-corpus\"))"
   ]
  },
  {
   "cell_type": "code",
   "execution_count": 7,
   "metadata": {
    "id": "lARYJ6Tgio7M"
   },
   "outputs": [
    {
     "name": "stdout",
     "output_type": "stream",
     "text": [
      "No: of conversations: 83097\n",
      "No: of users: 9035\n",
      "No: of utterances: 304713\n"
     ]
    }
   ],
   "source": [
    "\n",
    "# Display basic statistics\n",
    "print(\"No: of conversations:\", len(corpus.conversations))\n",
    "print(\"No: of users:\", len(corpus.speakers))\n",
    "print(\"No: of utterances:\", len(corpus.utterances))\n",
    "\n",
    "# Create empty lists to store data\n",
    "conversation_ids = []\n",
    "movie_indices = []\n",
    "movie_names = []\n",
    "release_years = []\n",
    "ratings = []\n",
    "votes = []\n",
    "genres = []\n",
    "num_utterances = []\n",
    "\n",
    "# Loop through conversations and extract data\n",
    "for convo_id in corpus.get_conversation_ids():\n",
    "    convo = corpus.get_conversation(convo_id)\n",
    "\n",
    "    # Extract metadata from ConvoKitMeta object\n",
    "    metadata = convo.meta\n",
    "\n",
    "    # Append data to respective lists\n",
    "    conversation_ids.append(convo_id)\n",
    "    movie_indices.append(metadata['movie_idx'])\n",
    "    movie_names.append(metadata['movie_name'])\n",
    "    release_years.append(metadata['release_year'])\n",
    "    ratings.append(metadata['rating'])\n",
    "    votes.append(metadata['votes'])\n",
    "    genres.append(metadata['genre'])\n",
    "    num_utterances.append(len(convo.get_utterance_ids()))\n",
    "\n",
    "# Create a DataFrame from the lists\n",
    "data = {\n",
    "    'Conversation ID': conversation_ids,\n",
    "    'Movie Index': movie_indices,\n",
    "    'Movie Name': movie_names,\n",
    "    'Rating': ratings,\n",
    "}\n"
   ]
  },
  {
   "cell_type": "code",
   "execution_count": 8,
   "metadata": {},
   "outputs": [],
   "source": [
    "movie_ratings_df = pd.DataFrame(data)\n",
    "\n",
    "# Create a Reader object specifying the rating scale\n",
    "reader = Reader(rating_scale=(1, 10))\n",
    "\n",
    "# Load the dataset into Surprise format\n",
    "data_surprise = movie_ratings_df[['Conversation ID', 'Movie Name', 'Rating']]\n",
    "data = Dataset.load_from_df(data_surprise, reader)\n"
   ]
  },
  {
   "cell_type": "code",
   "execution_count": 9,
   "metadata": {},
   "outputs": [
    {
     "name": "stdout",
     "output_type": "stream",
     "text": [
      "RMSE: 0.0639\n"
     ]
    }
   ],
   "source": [
    "# Split the data into training and testing sets (80% train, 20% test)\n",
    "trainset, testset = train_test_split(data, test_size=0.2, random_state=42)\n",
    "\n",
    "# Create and train the SVD recommendation model\n",
    "model = SVD()\n",
    "model.fit(trainset)\n",
    "\n",
    "# Evaluate the model on the testing data (calculate RMSE)\n",
    "predictions = model.test(testset)\n",
    "rmse = accuracy.rmse(predictions)\n",
    "\n",
    "\n"
   ]
  },
  {
   "cell_type": "code",
   "execution_count": 10,
   "metadata": {},
   "outputs": [
    {
     "name": "stdout",
     "output_type": "stream",
     "text": [
      "Top 3 recommendations for user L36547:\n",
      "Movie ID: neuromancer, Predicted Rating: 9.16\n",
      "Movie ID: the godfather, Predicted Rating: 9.03\n",
      "Movie ID: the godfather: part ii, Predicted Rating: 8.87\n"
     ]
    }
   ],
   "source": [
    "# Generate recommendations for a specific user (e.g., user_id='L236416')\n",
    "user_id = 'L36547'\n",
    "user_movies = movie_ratings_df[movie_ratings_df['Conversation ID'] == user_id]['Movie Name'].unique()\n",
    "\n",
    "# Create a list of unrated movies for the user\n",
    "all_movies = movie_ratings_df['Movie Name'].unique()\n",
    "unrated_movies = np.setdiff1d(all_movies, user_movies)\n",
    "\n",
    "# Generate predictions for unrated movies\n",
    "user_recommendations = []\n",
    "for movie_id in unrated_movies:\n",
    "    predicted_rating = model.predict(user_id, movie_id).est\n",
    "    user_recommendations.append((movie_id, predicted_rating))\n",
    "\n",
    "# Sort recommendations by predicted rating (highest first)\n",
    "user_recommendations.sort(key=lambda x: x[1], reverse=True)\n",
    "\n",
    "# Display the top n recommendations\n",
    "top_n = 3\n",
    "print(f'Top {top_n} recommendations for user {user_id}:')\n",
    "for movie_id, predicted_rating in user_recommendations[:top_n]:\n",
    "    print(f'Movie ID: {movie_id}, Predicted Rating: {predicted_rating:.2f}')\n"
   ]
  },
  {
   "cell_type": "code",
   "execution_count": null,
   "metadata": {},
   "outputs": [],
   "source": []
  }
 ],
 "metadata": {
  "colab": {
   "authorship_tag": "ABX9TyPd7RxTszFhhMBuZf3xpv+o",
   "provenance": []
  },
  "kernelspec": {
   "display_name": "Python 3 (ipykernel)",
   "language": "python",
   "name": "python3"
  },
  "language_info": {
   "codemirror_mode": {
    "name": "ipython",
    "version": 3
   },
   "file_extension": ".py",
   "mimetype": "text/x-python",
   "name": "python",
   "nbconvert_exporter": "python",
   "pygments_lexer": "ipython3",
   "version": "3.9.12"
  }
 },
 "nbformat": 4,
 "nbformat_minor": 1
}
